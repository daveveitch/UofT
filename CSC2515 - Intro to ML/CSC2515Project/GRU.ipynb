{
 "cells": [
  {
   "cell_type": "code",
   "execution_count": 34,
   "metadata": {},
   "outputs": [],
   "source": [
    "import pandas as pd\n",
    "import numpy as np\n",
    "from matplotlib import pyplot as plt\n",
    "%matplotlib inline  \n",
    "import seaborn as sns\n",
    "from sklearn import preprocessing\n",
    "import itertools"
   ]
  },
  {
   "cell_type": "markdown",
   "metadata": {},
   "source": [
    "# Data"
   ]
  },
  {
   "cell_type": "code",
   "execution_count": 35,
   "metadata": {},
   "outputs": [],
   "source": [
    "# Read all data\n",
    "all_data_selection = pd.read_csv('fama_french_data.csv', index_col=0, dtype={0:'str'})\n",
    "all_data_selection.index = pd.to_datetime(all_data_selection.index, format='%Y%m')\n",
    "X_all = all_data_selection.iloc[:,8:]\n",
    "#X_all = X_all.drop(columns=['wti_prev_yoy_chg'])\n",
    "y_SMB_bin = all_data_selection['SMB_bin']\n",
    "y_HML_bin = all_data_selection['HML_bin']\n",
    "y_SMB_HML = np.where((all_data_selection['SMB'] - all_data_selection['HML']) >= 0, 1, 0)"
   ]
  },
  {
   "cell_type": "code",
   "execution_count": 36,
   "metadata": {},
   "outputs": [],
   "source": [
    "# Features for each prediction\n",
    "#features_SMB = ['Mkt-RF_prev','RF_prev','SMB_prev_month', 'sp500_return_prev_month','TS_Level_Change_prev']\n",
    "#features_HML = ['HML_prev_month','SMB_prev_year','HML_prev_year','seasoned_corp_bond_yield_prev_month','ttm_pe_previous_month']\n",
    "#features_SMBHML = ['Mkt-RF_prev','RF_prev','SMB_prev_month', 'HML_prev_month','12m_cpi_forecast']\n",
    "\n",
    "X_SMB = X_all#.loc[:,features_SMB]\n",
    "X_HML = X_all#.loc[:,features_HML]\n",
    "X_SMBHML = X_all#.loc[:,features_SMBHML]"
   ]
  },
  {
   "cell_type": "code",
   "execution_count": 37,
   "metadata": {},
   "outputs": [],
   "source": [
    "# Normalize all features\n",
    "scalar_all = preprocessing.MinMaxScaler(feature_range=(0, 1)).fit(X_all)\n",
    "X_all_scaled = scalar_all.transform(X_all)\n",
    "scalar_SMB = preprocessing.MinMaxScaler(feature_range=(0, 1)).fit(X_SMB)\n",
    "X_SMB_scaled = scalar_SMB.transform(X_SMB)\n",
    "scalar_HML = preprocessing.MinMaxScaler(feature_range=(0, 1)).fit(X_HML)\n",
    "X_HML_scaled = scalar_HML.transform(X_HML)\n",
    "scalar_SMBHML = preprocessing.MinMaxScaler(feature_range=(0, 1)).fit(X_SMBHML)\n",
    "X_SMBHML_scaled = scalar_SMBHML.transform(X_SMBHML)"
   ]
  },
  {
   "cell_type": "code",
   "execution_count": 38,
   "metadata": {},
   "outputs": [],
   "source": [
    "index_names = X_all.index"
   ]
  },
  {
   "cell_type": "markdown",
   "metadata": {},
   "source": [
    "## Model Definitions and Functions"
   ]
  },
  {
   "cell_type": "code",
   "execution_count": 39,
   "metadata": {},
   "outputs": [],
   "source": [
    "import torch\n",
    "import torch.nn as nn\n",
    "from torch.nn import functional as F\n",
    "from torch.autograd import Variable\n",
    "from torch import optim\n",
    "import numpy as np\n",
    "import math, random"
   ]
  },
  {
   "cell_type": "code",
   "execution_count": 40,
   "metadata": {},
   "outputs": [],
   "source": [
    "class GRUModel(nn.Module):\n",
    "    def __init__(self, input_size, hidden_size, n_layers, n_classes):\n",
    "        super(GRUModel, self).__init__()\n",
    "        self.hidden_size = hidden_size\n",
    "        self.n_layers = n_layers\n",
    "        self.rnn = nn.GRU(input_size, hidden_size, n_layers, batch_first=True)\n",
    "    def forward(self, x):\n",
    "        h0 = torch.zeros(self.n_layers, x.size(0), self.hidden_size)\n",
    "        out ,_ = self.rnn(x, h0)\n",
    "        out = out[:,-1,:]\n",
    "        return out\n",
    "\n",
    "class LSTMModel(nn.Module):\n",
    "    def __init__(self, input_size, hidden_size, n_layers, n_classes):\n",
    "        super(LSTMModel, self).__init__()\n",
    "        self.hidden_size = hidden_size\n",
    "        self.n_layers = n_layers\n",
    "        self.rnn = nn.LSTM(input_size, hidden_size, n_layers, batch_first=True)\n",
    "    def forward(self, x):\n",
    "        h0 = torch.zeros(self.n_layers, x.size(0), self.hidden_size)\n",
    "        c0 = torch.zeros(self.n_layers, x.size(0), self.hidden_size)\n",
    "        out,_ = self.rnn(x, (h0,c0))\n",
    "        out = out[:,-1,:]\n",
    "        return out\n",
    "\n",
    "class RNNModel(nn.Module):\n",
    "    def __init__(self, input_size, hidden_size, n_layers, n_classes):\n",
    "        super(RNNModel, self).__init__()\n",
    "        self.hidden_size = hidden_size\n",
    "        self.n_layers = n_layers\n",
    "        self.rnn = nn.RNN(input_size, hidden_size, n_layers, batch_first=True)\n",
    "    def forward(self, x):\n",
    "        h0 = torch.zeros(self.n_layers, x.size(0), self.hidden_size)\n",
    "        out,_ = self.rnn(x, h0)\n",
    "        out = out[:,-1,:]\n",
    "        return out"
   ]
  },
  {
   "cell_type": "code",
   "execution_count": 41,
   "metadata": {},
   "outputs": [],
   "source": [
    "def prepare_data(batch_size, sequence_length, predict_window, input_size, series, drop):\n",
    "    # series must be one of 'SMB', 'HML', 'SMBHML'\n",
    "    if series == 'SMB':\n",
    "        X = X_SMB_scaled\n",
    "        y = y_SMB_bin\n",
    "    elif series == 'HML':\n",
    "        X = X_HML_scaled\n",
    "        y = y_HML_bin\n",
    "    else:\n",
    "        X = X_SMBHML_scaled\n",
    "        y = y_SMB_HML\n",
    "    if drop > 0:    \n",
    "        X = X[:-drop,:]\n",
    "        y = y[:-drop]\n",
    "\n",
    "    inputs_pd = pd.DataFrame(X[-batch_size-sequence_length-predict_window:,])\n",
    "    inputs = np.zeros((batch_size+predict_window, sequence_length, input_size))\n",
    "    for i in range(input_size):\n",
    "        input_i = inputs_pd.iloc[:,i]\n",
    "        input_i_s = input_i\n",
    "        for j in range(1,sequence_length):\n",
    "            input_i = pd.concat([input_i, input_i_s.shift(-j-1)], axis=1)\n",
    "        input_i.dropna(axis=0, inplace=True)\n",
    "        input_i = np.array(input_i)\n",
    "        inputs[:,:,i] = input_i\n",
    "    inputs_train = inputs[:-predict_window,:,:]\n",
    "    inputs_test = inputs[-predict_window:,:,:]\n",
    "    labels_train = y[-batch_size-predict_window:-predict_window]\n",
    "    labels_test = y[-predict_window:]\n",
    "    inputs_train = Variable(torch.Tensor(inputs_train))\n",
    "    labels_train = Variable(torch.LongTensor(labels_train))\n",
    "    inputs_test = Variable(torch.Tensor(inputs_test))\n",
    "    labels_test = Variable(torch.LongTensor(labels_test))\n",
    "    return inputs_train, labels_train, inputs_test, labels_test"
   ]
  },
  {
   "cell_type": "code",
   "execution_count": 42,
   "metadata": {},
   "outputs": [],
   "source": [
    "def train_model(seed, modelform, epoch, learning_rate, wd, input_size, hidden_size, num_layers, output_size, inputs, labels):\n",
    "    if modelform == 'GRU':\n",
    "        model = GRUModel(input_size, hidden_size, num_layers, output_size)\n",
    "        criterion = torch.nn.CrossEntropyLoss()\n",
    "        optimizer = torch.optim.Adam(model.parameters(), lr=learning_rate, weight_decay=wd)\n",
    "    elif modelform == 'LSTM':\n",
    "        model = LSTMModel(input_size, hidden_size, num_layers, output_size)\n",
    "        criterion = torch.nn.CrossEntropyLoss()\n",
    "        optimizer = torch.optim.Adam(model.parameters(), lr=learning_rate, weight_decay=wd)\n",
    "    else:\n",
    "        model = RNNModel(input_size, hidden_size, num_layers, output_size)\n",
    "        criterion = torch.nn.CrossEntropyLoss()\n",
    "        optimizer = torch.optim.Adam(model.parameters(), lr=learning_rate, weight_decay=wd)\n",
    "    \n",
    "    torch.manual_seed(seed)\n",
    "\n",
    "    loss_pd = pd.DataFrame(columns = range(epoch))\n",
    "    accuracy_pd = pd.DataFrame(columns = range(epoch))\n",
    "\n",
    "    for epo in range(epoch):\n",
    "\n",
    "        outputs = model(inputs)\n",
    "        loss = criterion(outputs, labels)\n",
    "        optimizer.zero_grad()\n",
    "        loss.backward()\n",
    "        optimizer.step()\n",
    "        _, trained = torch.max(outputs.data, 1)\n",
    "        correct = (trained == labels).sum().item()/batch_size\n",
    "        loss_pd.loc[modelform,epo] = loss.item()\n",
    "        accuracy_pd.loc[modelform,epo] = correct\n",
    "    \n",
    "    return loss_pd, accuracy_pd, model"
   ]
  },
  {
   "cell_type": "code",
   "execution_count": 43,
   "metadata": {},
   "outputs": [],
   "source": [
    "def test_model(model, inputs, labels):\n",
    "    outputs = model(inputs)\n",
    "    _, predicted = torch.max(outputs.data, 1)\n",
    "    correct = (predicted == labels).sum().item()\n",
    "    accuracy = correct/labels.shape[0]\n",
    "    return predicted, accuracy"
   ]
  },
  {
   "cell_type": "code",
   "execution_count": 44,
   "metadata": {},
   "outputs": [],
   "source": [
    "def select_features(modelform, epoches, learning_rates, wds, X_train_all, y_train_all):\n",
    "    #valid_score = pd.DataFrame(index = ['accuracy'])\n",
    "    #valid_score[:] = 0\n",
    "    \n",
    "    for j in range(50,51):#reversed(range(1,51,1)):\n",
    "        X_train = X_train_all[:-j,:,:]\n",
    "        X_valid = X_train_all[-j:,:,:]\n",
    "\n",
    "        y_train = y_train_all[:-j]\n",
    "        y_valid = y_train_all[-j:]\n",
    "                \n",
    "        valid_score_prev = -1\n",
    "        valid_score = -1\n",
    "        valid_score_best = -1\n",
    "        epoch_best = -1\n",
    "        lr_best = -1\n",
    "        wd_best = -1\n",
    "        \n",
    "        for (epoch, lr, wd) in list(itertools.product(epoches, learning_rates, wds)):\n",
    "            valid_score_prev = valid_score\n",
    "            \n",
    "            loss_train_try, accuracy_train_try, model_try =  train_model(seed, modelform, epoch, lr, wd, input_size, \n",
    "                                                                         hidden_size, num_layers, output_size, X_train, y_train)            \n",
    "            predicted_try, accuracy_valid_try = test_model(model_try, X_valid, y_valid)\n",
    "            valid_score = accuracy_valid_try\n",
    "            if valid_score > valid_score_prev:\n",
    "                valid_score_best = valid_score\n",
    "                epoch_best = epoch\n",
    "                lr_best = lr\n",
    "                wd_best = wd\n",
    "        \n",
    "    print('Epoch {:d}, learning rate {:.3f}, weight_decay {:.4f}, validation score {:.4f} '.format(epoch_best, lr_best, wd_best, valid_score_best))\n",
    "    loss_train, accuracy_train, model =  train_model(seed, modelform, epoch_best, lr_best, wd_best, input_size, \n",
    "                                                                 hidden_size, num_layers, output_size, X_train_all, y_train_all)            \n",
    "    #print('validation error is:', valid_error)\n",
    "    return epoch_best, lr_best, wd_best, accuracy_train, model"
   ]
  },
  {
   "cell_type": "code",
   "execution_count": 45,
   "metadata": {},
   "outputs": [],
   "source": [
    "def annual_prediction_model(series, modelform, epoches, learning_rates, wds, batch_size, years):\n",
    "    test_acc = pd.DataFrame(index = ['Test_accuracy','Epoch','Learning Rate','Weight Decay','Train_accuracy'], \n",
    "                            columns = range(1, years+1))\n",
    "    test_acc[:] = 0\n",
    "    pred_period = index_names[-years*12:]\n",
    "    pred_array = np.empty(0)\n",
    "    for year in reversed(range(1,years+1,1)):\n",
    "        train_year_end = - 12 * year\n",
    "        #train_year_beg = - sliding_window + train_year_end\n",
    "        #X_year = X_all[train_year_beg:,:]\n",
    "        #y_year = y_all[train_year_beg:]\n",
    "        \n",
    "        #X_year_train = X_year[:sliding_window,:] \n",
    "        #X_year_test = X_year[sliding_window:sliding_window+12,:]\n",
    "        \n",
    "        #y_year_train = y_year[:sliding_window]\n",
    "        #y_year_test = y_year[sliding_window:sliding_window+12]\n",
    "        \n",
    "        X_year_train, y_year_train, X_year_test, y_year_test = \\\n",
    "            prepare_data(batch_size, sequence_length, predict_window, input_size, series, -train_year_end-12)\n",
    "        \n",
    "        epoch_best_year, lr_best_year, wd_best_year, accuracy_train_year, model_year = \\\n",
    "            select_features(modelform, epoches, learning_rates, wds, X_year_train, y_year_train)\n",
    "        predicted_year, accuracy_year = test_model(model_year, X_year_test, y_year_test)\n",
    "        test_acc.loc['Test_accuracy', year] = accuracy_year\n",
    "        #print(\"accuracy_train_year: \", np.array(accuracy_train_year))\n",
    "        test_acc.loc['Train_accuracy', year] = np.array(accuracy_train_year).flatten()[-1]\n",
    "        test_acc.loc['Epoch', year] = epoch_best_year\n",
    "        test_acc.loc['Learning Rate', year] = lr_best_year\n",
    "        test_acc.loc['Weight Decay', year] = wd_best_year\n",
    "        pred_array = np.append(pred_array, predicted_year)\n",
    "    \n",
    "    pred_array = pred_array.reshape(-1,1)\n",
    "    predictions = pd.DataFrame(pred_array, index = pred_period, columns = ['Predictions'])\n",
    "                               \n",
    "    return test_acc, predictions"
   ]
  },
  {
   "cell_type": "markdown",
   "metadata": {},
   "source": [
    "## Hyperparameters"
   ]
  },
  {
   "cell_type": "code",
   "execution_count": 46,
   "metadata": {},
   "outputs": [],
   "source": [
    "num_classes = 2\n",
    "input_size = 28\n",
    "hidden_size = 2\n",
    "output_size = 2\n",
    "batch_size = 400\n",
    "sequence_length = 12\n",
    "num_layers = 1\n",
    "predict_window = 12\n",
    "learning_rates = [0.01, 0.015, 0.02, 0.025]\n",
    "epoches = [500]\n",
    "wds = [0.001, 0.005, 0.01, 0.02]\n",
    "seed = 302\n"
   ]
  },
  {
   "cell_type": "markdown",
   "metadata": {},
   "source": [
    "## SMB"
   ]
  },
  {
   "cell_type": "code",
   "execution_count": 47,
   "metadata": {},
   "outputs": [
    {
     "name": "stdout",
     "output_type": "stream",
     "text": [
      "Epoch 500, learning rate 0.025, weight_decay 0.0010, validation score 0.6800 \n",
      "Epoch 500, learning rate 0.025, weight_decay 0.0100, validation score 0.5600 \n",
      "Epoch 500, learning rate 0.025, weight_decay 0.0100, validation score 0.6000 \n",
      "Epoch 500, learning rate 0.025, weight_decay 0.0200, validation score 0.6000 \n",
      "Epoch 500, learning rate 0.025, weight_decay 0.0200, validation score 0.5600 \n",
      "Epoch 500, learning rate 0.025, weight_decay 0.0010, validation score 0.6800 \n",
      "Epoch 500, learning rate 0.025, weight_decay 0.0200, validation score 0.5800 \n",
      "Epoch 500, learning rate 0.025, weight_decay 0.0100, validation score 0.6600 \n",
      "Epoch 500, learning rate 0.025, weight_decay 0.0200, validation score 0.5400 \n",
      "Epoch 500, learning rate 0.025, weight_decay 0.0010, validation score 0.6200 \n",
      "Epoch 500, learning rate 0.025, weight_decay 0.0200, validation score 0.6600 \n",
      "Epoch 500, learning rate 0.020, weight_decay 0.0200, validation score 0.6000 \n",
      "Epoch 500, learning rate 0.020, weight_decay 0.0200, validation score 0.6000 \n",
      "Epoch 500, learning rate 0.025, weight_decay 0.0010, validation score 0.5800 \n",
      "Epoch 500, learning rate 0.025, weight_decay 0.0200, validation score 0.5200 \n",
      "Epoch 500, learning rate 0.025, weight_decay 0.0200, validation score 0.5800 \n",
      "Epoch 500, learning rate 0.025, weight_decay 0.0200, validation score 0.6000 \n",
      "Epoch 500, learning rate 0.025, weight_decay 0.0200, validation score 0.6200 \n",
      "Epoch 500, learning rate 0.025, weight_decay 0.0200, validation score 0.6400 \n",
      "Epoch 500, learning rate 0.025, weight_decay 0.0050, validation score 0.6000 \n",
      "Epoch 500, learning rate 0.025, weight_decay 0.0100, validation score 0.5000 \n",
      "Epoch 500, learning rate 0.025, weight_decay 0.0010, validation score 0.5600 \n",
      "Epoch 500, learning rate 0.025, weight_decay 0.0010, validation score 0.5600 \n",
      "Epoch 500, learning rate 0.025, weight_decay 0.0010, validation score 0.6200 \n",
      "Epoch 500, learning rate 0.020, weight_decay 0.0010, validation score 0.5400 \n",
      "Epoch 500, learning rate 0.010, weight_decay 0.0010, validation score 0.5800 \n",
      "Epoch 500, learning rate 0.025, weight_decay 0.0100, validation score 0.5200 \n",
      "Epoch 500, learning rate 0.025, weight_decay 0.0200, validation score 0.5800 \n",
      "Epoch 500, learning rate 0.025, weight_decay 0.0050, validation score 0.6400 \n",
      "Epoch 500, learning rate 0.025, weight_decay 0.0050, validation score 0.5600 \n"
     ]
    }
   ],
   "source": [
    "#test_acc_LSTM_SMB, predictions_LSTM_SMB = annual_prediction_model('SMB', 'LSTM', epoches, learning_rates, wds, batch_size, 30)\n",
    "test_acc_GRU_SMB, predictions_GRU_SMB = annual_prediction_model('SMB', 'GRU', epoches, learning_rates, wds, batch_size, 30)"
   ]
  },
  {
   "cell_type": "code",
   "execution_count": 48,
   "metadata": {},
   "outputs": [
    {
     "name": "stdout",
     "output_type": "stream",
     "text": [
      "Test_accuracy       0.580556\n",
      "Epoch             500.000000\n",
      "Learning Rate       0.024000\n",
      "Weight Decay        0.011133\n",
      "Train_accuracy      0.658417\n",
      "dtype: float64\n"
     ]
    },
    {
     "data": {
      "text/plain": [
       "<matplotlib.axes._subplots.AxesSubplot at 0x1a0aa3c5a58>"
      ]
     },
     "execution_count": 48,
     "metadata": {},
     "output_type": "execute_result"
    },
    {
     "data": {
      "image/png": "[encoded data removed]",
      "text/plain": [
       "<matplotlib.figure.Figure at 0x1a0a9a109b0>"
      ]
     },
     "metadata": {
      "needs_background": "light"
     },
     "output_type": "display_data"
    }
   ],
   "source": [
    "#print(test_acc_LSTM_SMB.T.mean())\n",
    "print(test_acc_GRU_SMB.T.mean())\n",
    "\n",
    "#fig, ax = plt.subplots(2,1,figsize=(6,6))\n",
    "#predictions_LSTM_SMB.plot(ax=ax[0])\n",
    "predictions_GRU_SMB.plot()"
   ]
  },
  {
   "cell_type": "markdown",
   "metadata": {},
   "source": [
    "## HML"
   ]
  },
  {
   "cell_type": "code",
   "execution_count": 49,
   "metadata": {},
   "outputs": [
    {
     "name": "stdout",
     "output_type": "stream",
     "text": [
      "Epoch 500, learning rate 0.025, weight_decay 0.0050, validation score 0.5600 \n",
      "Epoch 500, learning rate 0.025, weight_decay 0.0100, validation score 0.5800 \n",
      "Epoch 500, learning rate 0.025, weight_decay 0.0050, validation score 0.5600 \n",
      "Epoch 500, learning rate 0.025, weight_decay 0.0100, validation score 0.4800 \n",
      "Epoch 500, learning rate 0.020, weight_decay 0.0050, validation score 0.4400 \n",
      "Epoch 500, learning rate 0.025, weight_decay 0.0100, validation score 0.4400 \n",
      "Epoch 500, learning rate 0.025, weight_decay 0.0010, validation score 0.5800 \n",
      "Epoch 500, learning rate 0.025, weight_decay 0.0100, validation score 0.5200 \n",
      "Epoch 500, learning rate 0.025, weight_decay 0.0010, validation score 0.6400 \n",
      "Epoch 500, learning rate 0.025, weight_decay 0.0010, validation score 0.5800 \n",
      "Epoch 500, learning rate 0.025, weight_decay 0.0050, validation score 0.6400 \n",
      "Epoch 500, learning rate 0.025, weight_decay 0.0100, validation score 0.5200 \n",
      "Epoch 500, learning rate 0.025, weight_decay 0.0050, validation score 0.4800 \n",
      "Epoch 500, learning rate 0.025, weight_decay 0.0010, validation score 0.6600 \n",
      "Epoch 500, learning rate 0.025, weight_decay 0.0200, validation score 0.5600 \n",
      "Epoch 500, learning rate 0.025, weight_decay 0.0200, validation score 0.5400 \n",
      "Epoch 500, learning rate 0.025, weight_decay 0.0200, validation score 0.5000 \n",
      "Epoch 500, learning rate 0.025, weight_decay 0.0200, validation score 0.6400 \n",
      "Epoch 500, learning rate 0.025, weight_decay 0.0100, validation score 0.6400 \n",
      "Epoch 500, learning rate 0.025, weight_decay 0.0100, validation score 0.6200 \n",
      "Epoch 500, learning rate 0.025, weight_decay 0.0200, validation score 0.5200 \n",
      "Epoch 500, learning rate 0.025, weight_decay 0.0100, validation score 0.6400 \n",
      "Epoch 500, learning rate 0.025, weight_decay 0.0100, validation score 0.5200 \n",
      "Epoch 500, learning rate 0.025, weight_decay 0.0050, validation score 0.5600 \n",
      "Epoch 500, learning rate 0.025, weight_decay 0.0100, validation score 0.4400 \n",
      "Epoch 500, learning rate 0.025, weight_decay 0.0050, validation score 0.5400 \n",
      "Epoch 500, learning rate 0.025, weight_decay 0.0050, validation score 0.5000 \n",
      "Epoch 500, learning rate 0.025, weight_decay 0.0200, validation score 0.5000 \n",
      "Epoch 500, learning rate 0.025, weight_decay 0.0100, validation score 0.4800 \n",
      "Epoch 500, learning rate 0.025, weight_decay 0.0200, validation score 0.4000 \n"
     ]
    }
   ],
   "source": [
    "#test_acc_LSTM_HML, predictions_LSTM_HML = annual_prediction_model('HML', 'LSTM', epoches, learning_rates, wds, batch_size, 30)\n",
    "test_acc_GRU_HML, predictions_GRU_HML = annual_prediction_model('HML', 'GRU', epoches, learning_rates, wds, batch_size, 30)"
   ]
  },
  {
   "cell_type": "code",
   "execution_count": 50,
   "metadata": {},
   "outputs": [
    {
     "name": "stdout",
     "output_type": "stream",
     "text": [
      "Test_accuracy       0.522222\n",
      "Epoch             500.000000\n",
      "Learning Rate       0.024833\n",
      "Weight Decay        0.009800\n",
      "Train_accuracy      0.635417\n",
      "dtype: float64\n"
     ]
    },
    {
     "data": {
      "text/plain": [
       "<matplotlib.axes._subplots.AxesSubplot at 0x1a0ad012128>"
      ]
     },
     "execution_count": 50,
     "metadata": {},
     "output_type": "execute_result"
    },
    {
     "data": {
      "image/png": "[encoded data removed]",
      "text/plain": [
       "<matplotlib.figure.Figure at 0x1a0ad52d9e8>"
      ]
     },
     "metadata": {
      "needs_background": "light"
     },
     "output_type": "display_data"
    }
   ],
   "source": [
    "#print(test_acc_LSTM_HML.T.mean())\n",
    "print(test_acc_GRU_HML.T.mean())\n",
    "\n",
    "#fig, ax = plt.subplots(2,1,figsize=(6,6))\n",
    "#predictions_LSTM_HML.plot(ax=ax[0])\n",
    "predictions_GRU_HML.plot()"
   ]
  },
  {
   "cell_type": "markdown",
   "metadata": {},
   "source": [
    "## SMB/HML Switch"
   ]
  },
  {
   "cell_type": "code",
   "execution_count": 51,
   "metadata": {},
   "outputs": [
    {
     "name": "stdout",
     "output_type": "stream",
     "text": [
      "Epoch 500, learning rate 0.025, weight_decay 0.0100, validation score 0.6600 \n",
      "Epoch 500, learning rate 0.025, weight_decay 0.0050, validation score 0.6200 \n",
      "Epoch 500, learning rate 0.020, weight_decay 0.0050, validation score 0.6200 \n",
      "Epoch 500, learning rate 0.025, weight_decay 0.0010, validation score 0.5600 \n",
      "Epoch 500, learning rate 0.025, weight_decay 0.0050, validation score 0.5000 \n",
      "Epoch 500, learning rate 0.025, weight_decay 0.0100, validation score 0.5400 \n",
      "Epoch 500, learning rate 0.025, weight_decay 0.0010, validation score 0.5200 \n",
      "Epoch 500, learning rate 0.025, weight_decay 0.0100, validation score 0.5600 \n",
      "Epoch 500, learning rate 0.025, weight_decay 0.0200, validation score 0.5400 \n",
      "Epoch 500, learning rate 0.025, weight_decay 0.0100, validation score 0.6000 \n",
      "Epoch 500, learning rate 0.025, weight_decay 0.0010, validation score 0.6000 \n",
      "Epoch 500, learning rate 0.020, weight_decay 0.0050, validation score 0.5400 \n",
      "Epoch 500, learning rate 0.025, weight_decay 0.0100, validation score 0.5200 \n",
      "Epoch 500, learning rate 0.010, weight_decay 0.0010, validation score 0.5600 \n",
      "Epoch 500, learning rate 0.025, weight_decay 0.0050, validation score 0.5200 \n",
      "Epoch 500, learning rate 0.025, weight_decay 0.0100, validation score 0.6000 \n",
      "Epoch 500, learning rate 0.025, weight_decay 0.0100, validation score 0.6200 \n",
      "Epoch 500, learning rate 0.025, weight_decay 0.0100, validation score 0.5600 \n",
      "Epoch 500, learning rate 0.025, weight_decay 0.0100, validation score 0.6000 \n",
      "Epoch 500, learning rate 0.025, weight_decay 0.0050, validation score 0.6000 \n",
      "Epoch 500, learning rate 0.025, weight_decay 0.0200, validation score 0.5400 \n",
      "Epoch 500, learning rate 0.025, weight_decay 0.0200, validation score 0.5600 \n",
      "Epoch 500, learning rate 0.025, weight_decay 0.0100, validation score 0.5400 \n",
      "Epoch 500, learning rate 0.025, weight_decay 0.0200, validation score 0.5800 \n",
      "Epoch 500, learning rate 0.025, weight_decay 0.0050, validation score 0.5400 \n",
      "Epoch 500, learning rate 0.025, weight_decay 0.0100, validation score 0.5400 \n",
      "Epoch 500, learning rate 0.025, weight_decay 0.0200, validation score 0.4800 \n",
      "Epoch 500, learning rate 0.025, weight_decay 0.0100, validation score 0.4800 \n",
      "Epoch 500, learning rate 0.020, weight_decay 0.0100, validation score 0.5200 \n",
      "Epoch 500, learning rate 0.025, weight_decay 0.0100, validation score 0.6000 \n"
     ]
    }
   ],
   "source": [
    "#test_acc_LSTM_SMBHML, predictions_LSTM_SMBHML = annual_prediction_model('SMBHML', 'LSTM', epoches, learning_rates, wds, batch_size, 30)\n",
    "test_acc_GRU_SMBHML, predictions_GRU_SMBHML = annual_prediction_model('SMBHML', 'GRU', epoches, learning_rates, wds, batch_size, 30)"
   ]
  },
  {
   "cell_type": "code",
   "execution_count": 52,
   "metadata": {},
   "outputs": [
    {
     "name": "stdout",
     "output_type": "stream",
     "text": [
      "Test_accuracy       0.516667\n",
      "Epoch             500.000000\n",
      "Learning Rate       0.024000\n",
      "Weight Decay        0.009300\n",
      "Train_accuracy      0.648917\n",
      "dtype: float64\n"
     ]
    },
    {
     "data": {
      "text/plain": [
       "<matplotlib.axes._subplots.AxesSubplot at 0x1a0b04ca668>"
      ]
     },
     "execution_count": 52,
     "metadata": {},
     "output_type": "execute_result"
    },
    {
     "data": {
      "image/png": "[encoded data removed]",
      "text/plain": [
       "<matplotlib.figure.Figure at 0x1a0a9d6a9e8>"
      ]
     },
     "metadata": {
      "needs_background": "light"
     },
     "output_type": "display_data"
    }
   ],
   "source": [
    "#print(test_acc_LSTM_SMBHML.T.mean())\n",
    "print(test_acc_GRU_SMBHML.T.mean())\n",
    "\n",
    "#fig, ax = plt.subplots(2,1,figsize=(6,6))\n",
    "#predictions_LSTM_SMBHML.plot(ax=ax[0])\n",
    "predictions_GRU_SMBHML.plot()"
   ]
  },
  {
   "cell_type": "markdown",
   "metadata": {},
   "source": [
    "# Summarize Results"
   ]
  },
  {
   "cell_type": "code",
   "execution_count": 53,
   "metadata": {},
   "outputs": [],
   "source": [
    "pred_GRU = predictions_GRU_SMB.merge(predictions_GRU_HML, left_index=True, right_index=True, how='inner')\n",
    "pred_GRU = pred_GRU.merge(predictions_GRU_SMBHML, left_index=True, right_index=True, how='inner')\n",
    "pred_GRU.to_csv('../Results/GRU_12_30yr_400window.csv')"
   ]
  },
  {
   "cell_type": "code",
   "execution_count": 54,
   "metadata": {},
   "outputs": [],
   "source": [
    "test_acc_GRU_SMB.to_csv('../Results/Accuracy/GRU_12_30yr_400window_SMB.csv')\n",
    "test_acc_GRU_HML.to_csv('../Results/Accuracy/GRU_12_30yr_400window_HML.csv')\n",
    "test_acc_GRU_SMBHML.to_csv('../Results/Accuracy/GRU_12_30yr_400window_SMBHML.csv')"
   ]
  }
 ],
 "metadata": {
  "kernelspec": {
   "display_name": "Python 3",
   "language": "python",
   "name": "python3"
  },
  "language_info": {
   "codemirror_mode": {
    "name": "ipython",
    "version": 3
   },
   "file_extension": ".py",
   "mimetype": "text/x-python",
   "name": "python",
   "nbconvert_exporter": "python",
   "pygments_lexer": "ipython3",
   "version": "3.6.4"
  }
 },
 "nbformat": 4,
 "nbformat_minor": 2
}
