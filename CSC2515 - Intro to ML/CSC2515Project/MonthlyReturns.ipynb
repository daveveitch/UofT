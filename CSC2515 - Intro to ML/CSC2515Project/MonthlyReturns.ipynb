{
 "cells": [
  {
   "cell_type": "code",
   "execution_count": 2,
   "metadata": {},
   "outputs": [],
   "source": [
    "import pandas as pd\n",
    "import numpy as np\n",
    "from matplotlib import pyplot as plt\n",
    "%matplotlib inline  \n",
    "import seaborn as sns"
   ]
  },
  {
   "cell_type": "markdown",
   "metadata": {},
   "source": [
    "# Read Data"
   ]
  },
  {
   "cell_type": "code",
   "execution_count": 3,
   "metadata": {},
   "outputs": [],
   "source": [
    "# Read all data\n",
    "all_data_selection = pd.read_csv('fama_french_data.csv', index_col=0, dtype={0:'str'})\n",
    "all_data_selection.index = pd.to_datetime(all_data_selection.index, format='%Y%m')\n",
    "X_all = all_data_selection.iloc[:,8:]\n",
    "data_index = all_data_selection.index[-360:]\n",
    "#X_all = X_all.drop(columns=['wti_prev_yoy_chg'])\n",
    "y_SMB_bin = all_data_selection['SMB_bin'][-360:]\n",
    "y_HML_bin = all_data_selection['HML_bin'][-360:]\n",
    "y_SMB_HML = np.where((all_data_selection['SMB'] - all_data_selection['HML']) >= 0, 1, 0)[-360:]\n",
    "y_SMB_ret = all_data_selection['SMB'][-360:]\n",
    "y_HML_ret = all_data_selection['HML'][-360:]"
   ]
  },
  {
   "cell_type": "code",
   "execution_count": 4,
   "metadata": {},
   "outputs": [],
   "source": [
    "# Read predictions\n",
    "RegL2_all = pd.read_csv('../Results/Regression_L2_30yr_400window.csv', index_col=0, dtype={0:'str'})\n",
    "GRU_all = pd.read_csv('../Results/GRU_12_30yr_400window.csv', index_col=0, dtype={0:'str'})\n",
    "GB_SMB = pd.read_csv('../Results/GradientBoosting_SMB_30yr.csv', index_col=0, dtype={0:'str'})\n",
    "GB_SMB.columns = ['SMB']\n",
    "GB_HML = pd.read_csv('../Results/GradientBoosting_HML_30yr.csv', index_col=0, dtype={0:'str'})\n",
    "GB_HML.columns = ['HML']\n",
    "GB_SMBHML = pd.read_csv('../Results/GradientBoosting_SMBHML_30yr.csv', index_col=0, dtype={0:'str'})\n",
    "GB_SMBHML.columns = ['SMBHML']\n"
   ]
  },
  {
   "cell_type": "code",
   "execution_count": 5,
   "metadata": {},
   "outputs": [],
   "source": [
    "RF_SMB = pd.read_csv('../Results/SMB_bin_RF.csv', index_col=0, dtype={0:'str'})\n",
    "RF_SMB.columns = ['SMB']\n",
    "RF_SMB = RF_SMB.iloc[-360:,]\n",
    "RF_HML = pd.read_csv('../Results/HML_bin_RF.csv', index_col=0, dtype={0:'str'})\n",
    "RF_HML.columns = ['HML']\n",
    "RF_HML = RF_HML.iloc[-360:,]\n",
    "RF_SMBHML = pd.read_csv('../Results/SMB_over_HML_RF.csv', index_col=0, dtype={0:'str'})\n",
    "RF_SMBHML.columns = ['SMBHML']\n",
    "RF_SMBHML = RF_SMBHML.iloc[-360:,]\n"
   ]
  },
  {
   "cell_type": "code",
   "execution_count": 6,
   "metadata": {},
   "outputs": [],
   "source": [
    "SVM_SMB = pd.read_csv('../Results/SMB_bin_SVM.csv', index_col=0, dtype={0:'str'})\n",
    "SVM_SMB.columns = ['SMB']\n",
    "SVM_SMB = SVM_SMB.iloc[-360:,]\n",
    "SVM_HML = pd.read_csv('../Results/HML_bin_SVM.csv', index_col=0, dtype={0:'str'})\n",
    "SVM_HML.columns = ['HML']\n",
    "SVM_HML = SVM_HML.iloc[-360:,]\n",
    "SVM_SMBHML = pd.read_csv('../Results/SMB_over_HML_SVM.csv', index_col=0, dtype={0:'str'})\n",
    "SVM_SMBHML.columns = ['SMBHML']\n",
    "SVM_SMBHML = SVM_SMBHML.iloc[-360:,]"
   ]
  },
  {
   "cell_type": "code",
   "execution_count": 7,
   "metadata": {},
   "outputs": [],
   "source": [
    "RegL2_SMB = pd.DataFrame(RegL2_all['SMB'])\n",
    "RegL2_HML = pd.DataFrame(RegL2_all['HML'])\n",
    "RegL2_SMBHML = pd.DataFrame(RegL2_all['SMBHML'])\n",
    "\n",
    "GRU_SMB = pd.DataFrame(GRU_all['SMB'])\n",
    "GRU_HML = pd.DataFrame(GRU_all['HML'])\n",
    "GRU_SMBHML = pd.DataFrame(GRU_all['SMBHML'])"
   ]
  },
  {
   "cell_type": "code",
   "execution_count": 8,
   "metadata": {},
   "outputs": [],
   "source": [
    "# Map to accuracies\n",
    "acc_col = ['RegL2_SMB','RegL2_HML','RegL2_SMBHML', \n",
    "           'RF_SMB','RF_HML','RF_SMBHML',\n",
    "           'GRU_SMB','GRU_HML','GRU_SMBHML']\n",
    "acc_df = pd.DataFrame(columns=acc_col, index=data_index)"
   ]
  },
  {
   "cell_type": "code",
   "execution_count": 9,
   "metadata": {},
   "outputs": [],
   "source": [
    "acc_df['RegL2_SMB'] = np.where(np.array(RegL2_SMB).flatten()==y_SMB_bin, 1, 0)\n",
    "acc_df['RF_SMB'] = np.where(np.array(RF_SMB).flatten()==y_SMB_bin, 1, 0)\n",
    "acc_df['GRU_SMB'] = np.where(np.array(GRU_SMB).flatten()==y_SMB_bin, 1, 0)\n",
    "\n",
    "acc_df['RegL2_HML'] = np.where(np.array(RegL2_HML).flatten()==y_HML_bin, 1, 0)\n",
    "acc_df['RF_HML'] = np.where(np.array(RF_HML).flatten()==y_HML_bin, 1, 0)\n",
    "acc_df['GRU_HML'] = np.where(np.array(GRU_HML).flatten()==y_HML_bin, 1, 0)\n",
    "\n",
    "acc_df['RegL2_SMBHML'] = np.where(np.array(RegL2_SMBHML).flatten()==y_SMB_HML, 1, 0)\n",
    "acc_df['RF_SMBHML'] = np.where(np.array(RF_SMBHML).flatten()==y_SMB_HML, 1, 0)\n",
    "acc_df['GRU_SMBHML'] = np.where(np.array(GRU_SMBHML).flatten()==y_SMB_HML, 1, 0)"
   ]
  },
  {
   "cell_type": "code",
   "execution_count": 10,
   "metadata": {},
   "outputs": [],
   "source": [
    "# import returns\n",
    "ret_df = pd.read_csv('../Results/Summary/monthly_returns.csv', index_col=0, dtype={0:'str'})\n",
    "ret_df.index = data_index\n",
    "ret_df['Equal_Weight'] = 0.5*(ret_df['SMB']+ret_df['HML'])\n",
    "ret_df = ret_df[['SMB','HML','Equal_Weight',\n",
    "                 'Regression L2_SMB_return','Regression L2_HML_return','Regression L2_SMB_or_HML_return',\n",
    "                 'RF_SMB_return','RF_HML_return','RF_SMB_or_HML_return',\n",
    "                 'GRU_12_SMB_return','GRU_12_HML_return','GRU_12_SMB_or_HML_return',]]"
   ]
  },
  {
   "cell_type": "code",
   "execution_count": 11,
   "metadata": {},
   "outputs": [],
   "source": [
    "# Map to returns\n",
    "ret_col = ['SMB_passive','HML_passive','Equal_Weight',\n",
    "           'RegL2_SMB','RegL2_HML','RegL2_SMBHML', \n",
    "           'RF_SMB','RF_HML','RF_SMBHML',\n",
    "           'GRU_SMB','GRU_HML','GRU_SMBHML']\n",
    "ret_df = pd.DataFrame(columns=ret_col, index=data_index)"
   ]
  },
  {
   "cell_type": "code",
   "execution_count": 12,
   "metadata": {},
   "outputs": [],
   "source": [
    "ret_df['RegL2_SMB'] = np.where(np.array(RegL2_SMB).flatten()==1, y_SMB_ret, -y_SMB_ret)\n",
    "ret_df['RF_SMB'] = np.where(np.array(RF_SMB).flatten()==1, y_SMB_ret, -y_SMB_ret)\n",
    "ret_df['GRU_SMB'] = np.where(np.array(GRU_SMB).flatten()==1, y_SMB_ret, -y_SMB_ret)\n",
    "\n",
    "ret_df['RegL2_HML'] = np.where(np.array(RegL2_HML).flatten()==1, y_HML_ret, -y_HML_ret)\n",
    "ret_df['RF_HML'] = np.where(np.array(RF_HML).flatten()==1, y_HML_ret, -y_HML_ret)\n",
    "ret_df['GRU_HML'] = np.where(np.array(GRU_HML).flatten()==1, y_HML_ret, -y_HML_ret)\n",
    "\n",
    "ret_df['RegL2_SMBHML'] = np.where(np.array(RegL2_SMBHML).flatten()==1, y_SMB_ret, y_HML_ret)\n",
    "ret_df['RF_SMBHML'] = np.where(np.array(RF_SMBHML).flatten()==1, y_SMB_ret, y_HML_ret)\n",
    "ret_df['GRU_SMBHML'] = np.where(np.array(GRU_SMBHML).flatten()==1, y_SMB_ret, y_HML_ret)\n",
    "\n",
    "ret_df['SMB_passive'] = y_SMB_ret\n",
    "ret_df['HML_passive'] = y_HML_ret\n",
    "ret_df['Equal_Weight'] = 0.5 * (y_SMB_ret + y_HML_ret)"
   ]
  },
  {
   "cell_type": "markdown",
   "metadata": {},
   "source": [
    "# Return - overal mean, sd, cumulative"
   ]
  },
  {
   "cell_type": "code",
   "execution_count": 13,
   "metadata": {},
   "outputs": [],
   "source": [
    "SMB_ret_col = ['SMB_passive','RegL2_SMB','RF_SMB','GRU_SMB']\n",
    "HML_ret_col = ['HML_passive','RegL2_HML','RF_HML','GRU_HML']\n",
    "SMBHML_ret_col = ['Equal_Weight','RegL2_SMBHML','RF_SMBHML','GRU_SMBHML']\n",
    "summary_col = ['Passive','Regression','Random Forest','GRU']"
   ]
  },
  {
   "cell_type": "code",
   "execution_count": 14,
   "metadata": {},
   "outputs": [
    {
     "data": {
      "text/html": [
       "<div>\n",
       "<style scoped>\n",
       "    .dataframe tbody tr th:only-of-type {\n",
       "        vertical-align: middle;\n",
       "    }\n",
       "\n",
       "    .dataframe tbody tr th {\n",
       "        vertical-align: top;\n",
       "    }\n",
       "\n",
       "    .dataframe thead th {\n",
       "        text-align: right;\n",
       "    }\n",
       "</style>\n",
       "<table border=\"1\" class=\"dataframe\">\n",
       "  <thead>\n",
       "    <tr style=\"text-align: right;\">\n",
       "      <th></th>\n",
       "      <th>SMB_passive</th>\n",
       "      <th>RegL2_SMB</th>\n",
       "      <th>RF_SMB</th>\n",
       "      <th>GRU_SMB</th>\n",
       "    </tr>\n",
       "  </thead>\n",
       "  <tbody>\n",
       "    <tr>\n",
       "      <th>Mean</th>\n",
       "      <td>0.00105611</td>\n",
       "      <td>0.00263833</td>\n",
       "      <td>0.00215111</td>\n",
       "      <td>0.00352111</td>\n",
       "    </tr>\n",
       "    <tr>\n",
       "      <th>Standard Deviation</th>\n",
       "      <td>0.0314937</td>\n",
       "      <td>0.0314008</td>\n",
       "      <td>0.0314379</td>\n",
       "      <td>0.0313141</td>\n",
       "    </tr>\n",
       "    <tr>\n",
       "      <th>Cummulative</th>\n",
       "      <td>1.22601</td>\n",
       "      <td>2.14853</td>\n",
       "      <td>1.8029</td>\n",
       "      <td>2.96222</td>\n",
       "    </tr>\n",
       "  </tbody>\n",
       "</table>\n",
       "</div>"
      ],
      "text/plain": [
       "                   SMB_passive   RegL2_SMB      RF_SMB     GRU_SMB\n",
       "Mean                0.00105611  0.00263833  0.00215111  0.00352111\n",
       "Standard Deviation   0.0314937   0.0314008   0.0314379   0.0313141\n",
       "Cummulative            1.22601     2.14853      1.8029     2.96222"
      ]
     },
     "execution_count": 14,
     "metadata": {},
     "output_type": "execute_result"
    }
   ],
   "source": [
    "ret_df_SMB = ret_df[SMB_ret_col]\n",
    "ret_sum_SMB = pd.DataFrame(index=['Mean','Standard Deviation','Cummulative'], columns=SMB_ret_col)\n",
    "ret_sum_SMB.loc['Mean',:] = ret_df_SMB.agg(np.mean)\n",
    "ret_sum_SMB.loc['Standard Deviation',:] = ret_df_SMB.agg(np.std)\n",
    "ret_sum_SMB.loc['Cummulative',:] = ret_df_SMB.apply(lambda x: (x+1).prod())\n",
    "ret_sum_SMB"
   ]
  },
  {
   "cell_type": "code",
   "execution_count": 15,
   "metadata": {},
   "outputs": [
    {
     "data": {
      "text/html": [
       "<div>\n",
       "<style scoped>\n",
       "    .dataframe tbody tr th:only-of-type {\n",
       "        vertical-align: middle;\n",
       "    }\n",
       "\n",
       "    .dataframe tbody tr th {\n",
       "        vertical-align: top;\n",
       "    }\n",
       "\n",
       "    .dataframe thead th {\n",
       "        text-align: right;\n",
       "    }\n",
       "</style>\n",
       "<table border=\"1\" class=\"dataframe\">\n",
       "  <thead>\n",
       "    <tr style=\"text-align: right;\">\n",
       "      <th></th>\n",
       "      <th>HML_passive</th>\n",
       "      <th>RegL2_HML</th>\n",
       "      <th>RF_HML</th>\n",
       "      <th>GRU_HML</th>\n",
       "    </tr>\n",
       "  </thead>\n",
       "  <tbody>\n",
       "    <tr>\n",
       "      <th>Mean</th>\n",
       "      <td>0.00152278</td>\n",
       "      <td>0.00173833</td>\n",
       "      <td>0.00450167</td>\n",
       "      <td>-0.000172222</td>\n",
       "    </tr>\n",
       "    <tr>\n",
       "      <th>Standard Deviation</th>\n",
       "      <td>0.0292048</td>\n",
       "      <td>0.0291928</td>\n",
       "      <td>0.0288959</td>\n",
       "      <td>0.029244</td>\n",
       "    </tr>\n",
       "    <tr>\n",
       "      <th>Cummulative</th>\n",
       "      <td>1.48452</td>\n",
       "      <td>1.6035</td>\n",
       "      <td>4.33856</td>\n",
       "      <td>0.803711</td>\n",
       "    </tr>\n",
       "  </tbody>\n",
       "</table>\n",
       "</div>"
      ],
      "text/plain": [
       "                   HML_passive   RegL2_HML      RF_HML      GRU_HML\n",
       "Mean                0.00152278  0.00173833  0.00450167 -0.000172222\n",
       "Standard Deviation   0.0292048   0.0291928   0.0288959     0.029244\n",
       "Cummulative            1.48452      1.6035     4.33856     0.803711"
      ]
     },
     "execution_count": 15,
     "metadata": {},
     "output_type": "execute_result"
    }
   ],
   "source": [
    "ret_df_HML = ret_df[HML_ret_col]\n",
    "ret_sum_HML = pd.DataFrame(index=['Mean','Standard Deviation','Cummulative'], columns=HML_ret_col)\n",
    "ret_sum_HML.loc['Mean',:] = ret_df_HML.agg(np.mean)\n",
    "ret_sum_HML.loc['Standard Deviation',:] = ret_df_HML.agg(np.std)\n",
    "ret_sum_HML.loc['Cummulative',:] = ret_df_HML.apply(lambda x: (x+1).prod())\n",
    "ret_sum_HML"
   ]
  },
  {
   "cell_type": "code",
   "execution_count": 16,
   "metadata": {},
   "outputs": [
    {
     "data": {
      "text/html": [
       "<div>\n",
       "<style scoped>\n",
       "    .dataframe tbody tr th:only-of-type {\n",
       "        vertical-align: middle;\n",
       "    }\n",
       "\n",
       "    .dataframe tbody tr th {\n",
       "        vertical-align: top;\n",
       "    }\n",
       "\n",
       "    .dataframe thead th {\n",
       "        text-align: right;\n",
       "    }\n",
       "</style>\n",
       "<table border=\"1\" class=\"dataframe\">\n",
       "  <thead>\n",
       "    <tr style=\"text-align: right;\">\n",
       "      <th></th>\n",
       "      <th>Equal_Weight</th>\n",
       "      <th>RegL2_SMBHML</th>\n",
       "      <th>RF_SMBHML</th>\n",
       "      <th>GRU_SMBHML</th>\n",
       "    </tr>\n",
       "  </thead>\n",
       "  <tbody>\n",
       "    <tr>\n",
       "      <th>Mean</th>\n",
       "      <td>0.00128944</td>\n",
       "      <td>0.00216889</td>\n",
       "      <td>0.00152278</td>\n",
       "      <td>0.003395</td>\n",
       "    </tr>\n",
       "    <tr>\n",
       "      <th>Standard Deviation</th>\n",
       "      <td>0.0185221</td>\n",
       "      <td>0.0288337</td>\n",
       "      <td>0.0287606</td>\n",
       "      <td>0.0307355</td>\n",
       "    </tr>\n",
       "    <tr>\n",
       "      <th>Cummulative</th>\n",
       "      <td>1.4955</td>\n",
       "      <td>1.8767</td>\n",
       "      <td>1.48865</td>\n",
       "      <td>2.8685</td>\n",
       "    </tr>\n",
       "  </tbody>\n",
       "</table>\n",
       "</div>"
      ],
      "text/plain": [
       "                   Equal_Weight RegL2_SMBHML   RF_SMBHML GRU_SMBHML\n",
       "Mean                 0.00128944   0.00216889  0.00152278   0.003395\n",
       "Standard Deviation    0.0185221    0.0288337   0.0287606  0.0307355\n",
       "Cummulative              1.4955       1.8767     1.48865     2.8685"
      ]
     },
     "execution_count": 16,
     "metadata": {},
     "output_type": "execute_result"
    }
   ],
   "source": [
    "ret_df_SMBHML = ret_df[SMBHML_ret_col]\n",
    "ret_sum_SMBHML = pd.DataFrame(index=['Mean','Standard Deviation','Cummulative'], columns=SMBHML_ret_col)\n",
    "ret_sum_SMBHML.loc['Mean',:] = ret_df_SMBHML.agg(np.mean)\n",
    "ret_sum_SMBHML.loc['Standard Deviation',:] = ret_df_SMBHML.agg(np.std)\n",
    "ret_sum_SMBHML.loc['Cummulative',:] = ret_df_SMBHML.apply(lambda x: (x+1).prod())\n",
    "ret_sum_SMBHML"
   ]
  },
  {
   "cell_type": "code",
   "execution_count": 17,
   "metadata": {},
   "outputs": [
    {
     "data": {
      "image/png": "[encoded data removed]",
      "text/plain": [
       "<matplotlib.figure.Figure at 0x2a98da04518>"
      ]
     },
     "metadata": {
      "needs_background": "light"
     },
     "output_type": "display_data"
    }
   ],
   "source": [
    "# total mean, cumulative, std\n",
    "fig, ax = plt.subplots(2,3,figsize=(8,6), sharex=True,sharey='row')\n",
    "ret_sum_SMB.T.loc[:,'Mean'].plot.bar(ax=ax[0,0],color='darkblue')\n",
    "ret_sum_HML.T.loc[:,'Mean'].plot.bar(ax=ax[0,1],color='darkblue')\n",
    "ret_sum_SMBHML.T.loc[:,'Mean'].plot.bar(ax=ax[0,2],color='darkblue')\n",
    "ax[0,0].set_ylabel(\"Mean Monthly Returns\")\n",
    "ax[0,0].set_title(\"SMB\")\n",
    "\n",
    "ret_sum_SMB.T.loc[:,'Standard Deviation'].plot.bar(ax=ax[1,0],color='darkblue')\n",
    "ret_sum_HML.T.loc[:,'Standard Deviation'].plot.bar(ax=ax[1,1],color='darkblue')\n",
    "ret_sum_SMBHML.T.loc[:,'Standard Deviation'].plot.bar(ax=ax[1,2],color='darkblue')\n",
    "ax[1,0].set_ylim(0.015, 0.04)\n",
    "ax[1,0].set_ylabel('Standard Deviations - Monthly Returns')\n",
    "ax[0,1].set_title(\"HML\")\n",
    "\n",
    "\n",
    "#ret_sum_SMB.T.loc[:,'Cummulative'].plot.bar(ax=ax[2,0],color='darkblue')\n",
    "#ret_sum_HML.T.loc[:,'Cummulative'].plot.bar(ax=ax[2,1],color='darkblue')\n",
    "#ret_sum_SMBHML.T.loc[:,'Cummulative'].plot.bar(ax=ax[2,2],color='darkblue')\n",
    "#ax[2,0].set_ylabel('Cumulative Returns')\n",
    "ax[0,2].set_title(\"SMB HML Switching\")\n",
    "\n",
    "ax[1,0].set_xticklabels(summary_col)\n",
    "ax[1,1].set_xticklabels(summary_col)\n",
    "ax[1,2].set_xticklabels(summary_col)\n",
    "plt.tight_layout()\n",
    "\n",
    "fig.savefig('../Results/Figures/mean_std.png', dpi=fig.dpi)"
   ]
  },
  {
   "cell_type": "code",
   "execution_count": 18,
   "metadata": {},
   "outputs": [],
   "source": [
    "ret_sum_SMB_yr = ret_df_SMB.groupby(by = np.arange(len(ret_df_SMB.index))//120, axis=0).mean()\n",
    "ret_sum_HML_yr = ret_df_HML.groupby(by = np.arange(len(ret_df_HML.index))//120, axis=0).mean()\n",
    "ret_sum_SMBHML_yr = ret_df_SMBHML.groupby(by = np.arange(len(ret_df_SMBHML.index))//120, axis=0).mean()"
   ]
  },
  {
   "cell_type": "code",
   "execution_count": 24,
   "metadata": {},
   "outputs": [],
   "source": [
    "def findcolor(x):\n",
    "    color = ['darkblue','darkblue','darkblue','darkblue']\n",
    "    for i in range(1,4):\n",
    "        if (x[i]>x[0]):\n",
    "            color[i]='green'\n",
    "        else:\n",
    "            color[i]='red'\n",
    "    return color\n",
    "            "
   ]
  },
  {
   "cell_type": "code",
   "execution_count": 26,
   "metadata": {},
   "outputs": [
    {
     "data": {
      "text/plain": [
       "[Text(0,0,'Passive'),\n",
       " Text(0,0,'Regression'),\n",
       " Text(0,0,'Random Forest'),\n",
       " Text(0,0,'GRU')]"
      ]
     },
     "execution_count": 26,
     "metadata": {},
     "output_type": "execute_result"
    },
    {
     "data": {
      "image/png": "[encoded data removed]",
      "text/plain": [
       "<matplotlib.figure.Figure at 0x2a9915b3d30>"
      ]
     },
     "metadata": {
      "needs_background": "light"
     },
     "output_type": "display_data"
    }
   ],
   "source": [
    "# mean return by time\n",
    "fig, ax = plt.subplots(3,3,figsize=(10,10), sharex=True,sharey='row')\n",
    "ret_sum_SMB_yr.iloc[0,:].T.plot.bar(ax=ax[0,0],color=findcolor(ret_sum_SMB_yr.iloc[0,:]))\n",
    "ret_sum_HML_yr.iloc[0,:].T.plot.bar(ax=ax[1,0],color=findcolor(ret_sum_HML_yr.iloc[0,:]))\n",
    "ret_sum_SMBHML_yr.iloc[0,:].T.plot.bar(ax=ax[2,0],color=findcolor(ret_sum_SMBHML_yr.iloc[0,:]))\n",
    "ax[0,0].set_ylabel(\"SMB\")\n",
    "ax[0,0].set_title(\"1988-1998\")\n",
    "\n",
    "ret_sum_SMB_yr.iloc[1,:].plot.bar(ax=ax[0,1],color=findcolor(ret_sum_SMB_yr.iloc[1,:]))\n",
    "ret_sum_HML_yr.iloc[1,:].plot.bar(ax=ax[1,1],color=findcolor(ret_sum_HML_yr.iloc[1,:]))\n",
    "ret_sum_SMBHML_yr.iloc[1,:].plot.bar(ax=ax[2,1],color=findcolor(ret_sum_SMBHML_yr.iloc[1,:]))\n",
    "ax[1,0].set_ylabel(\"HML\")\n",
    "ax[0,1].set_title(\"1998-2008\")\n",
    "\n",
    "ret_sum_SMB_yr.iloc[2,:].plot.bar(ax=ax[0,2],color=findcolor(ret_sum_SMB_yr.iloc[2,:]))\n",
    "ret_sum_HML_yr.iloc[2,:].plot.bar(ax=ax[1,2],color=findcolor(ret_sum_HML_yr.iloc[2,:]))\n",
    "ret_sum_SMBHML_yr.iloc[2,:].plot.bar(ax=ax[2,2],color=findcolor(ret_sum_SMBHML_yr.iloc[2,:]))\n",
    "\n",
    "ax[2,0].set_ylabel('SMB HML Switching')\n",
    "ax[0,2].set_title(\"2008-2018\")\n",
    "\n",
    "ax[2,0].set_xticklabels(summary_col)\n",
    "ax[2,1].set_xticklabels(summary_col)\n",
    "ax[2,2].set_xticklabels(summary_col)\n",
    "\n",
    "#fig.savefig('../Results/Figures/mean_std_cum.png', dpi=fig.dpi)"
   ]
  },
  {
   "cell_type": "code",
   "execution_count": null,
   "metadata": {},
   "outputs": [],
   "source": []
  }
 ],
 "metadata": {
  "kernelspec": {
   "display_name": "Python 3",
   "language": "python",
   "name": "python3"
  },
  "language_info": {
   "codemirror_mode": {
    "name": "ipython",
    "version": 3
   },
   "file_extension": ".py",
   "mimetype": "text/x-python",
   "name": "python",
   "nbconvert_exporter": "python",
   "pygments_lexer": "ipython3",
   "version": "3.6.4"
  }
 },
 "nbformat": 4,
 "nbformat_minor": 2
}
