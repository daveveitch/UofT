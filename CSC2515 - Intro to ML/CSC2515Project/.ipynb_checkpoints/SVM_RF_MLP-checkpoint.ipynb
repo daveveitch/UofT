{
 "cells": [
  {
   "cell_type": "markdown",
   "metadata": {},
   "source": [
    "# SVM_RF_MLP\n",
    "\n",
    "This file contains all of the model building/cross validation for the SVM, random forest, and multilayer perceptron used in this project.\n",
    "\n",
    "# Preliminaries"
   ]
  },
  {
   "cell_type": "code",
   "execution_count": 1,
   "metadata": {},
   "outputs": [],
   "source": [
    "import sklearn\n",
    "import matplotlib.pyplot as plt\n",
    "import pandas as pd\n",
    "import numpy as np\n",
    "from sklearn.ensemble import RandomForestClassifier\n",
    "from sklearn.model_selection import train_test_split\n",
    "import warnings\n",
    "warnings.filterwarnings('ignore')\n",
    "pd.options.display.max_rows = 35\n",
    "pd.options.display.max_columns = 43\n",
    "%matplotlib inline"
   ]
  },
  {
   "cell_type": "markdown",
   "metadata": {},
   "source": [
    "#### Import Data\n",
    "\n",
    "Import data that has been preprocessed in Microsoft Excel.\n",
    "\n",
    "key_columns variable represents those features that the model will use at time $t$ to predict the label at time $t$. One can notice that many return variables included are $t-1$, consistent with what portfolio managers would face in practice. "
   ]
  },
  {
   "cell_type": "code",
   "execution_count": 2,
   "metadata": {
    "scrolled": true
   },
   "outputs": [],
   "source": [
    "# import data\n",
    "main_df = pd.read_csv('fama_french_data.csv')\n",
    "\n",
    "main_df['SMB_positive'] = (main_df['SMB'] >= 0).astype(int)\n",
    "main_df['HML_positive'] = (main_df['HML'] >= 0).astype(int)\n",
    "main_df['SMB_over_HML'] = (main_df['SMB']>=main_df['HML']).astype('int')\n",
    "\n",
    "key_columns = ['Mkt-RF_prev', 'RF_prev', 'SMB_prev_month',\n",
    "       'HML_prev_month', 'SMB_prev_year', 'HML_prev_year',\n",
    "       '12m_nom_gdp_forecast', '12m_ip_growth_forecast', '12m_cpi_forecast',\n",
    "       '12m_real_gdp_forecast_calculated', '12m_real_ip_growth_calculated',\n",
    "       '12m_unemployment_rate', 'year_of_deficit_pct_gdp', 'shiller_cape',\n",
    "       'seasoned_corp_bond_yield_prev_month', 'ttm_pe_previous_month',\n",
    "       'sp500_return_prev_month', 'sp500_return_prev_yr',\n",
    "       'TS_Slope_Change_prev', 'TS_Level_Change_prev',\n",
    "       'Business_Confidence_chg_prev', 'IP_chg_prev', 'Spread_chg_prev',\n",
    "       'Div_yield_chg_prev', '12m_nom_gdp_forecast_changerate',\n",
    "       '12m_ip_growth_forecast_changerate', '12m_cpi_forecast_changerate',\n",
    "       '12m_unemployment_rate_changerate']"
   ]
  },
  {
   "cell_type": "code",
   "execution_count": 3,
   "metadata": {},
   "outputs": [
    {
     "data": {
      "text/plain": [
       "Index(['Unnamed: 0', 'SMB', 'HML', 'SMB_bin', 'HML_bin',\n",
       "       'SMB_1yr_future_return', 'HML_1yr_future_return', 'SMB_yr_bin',\n",
       "       'HML_yr_bin', 'Mkt-RF_prev', 'RF_prev', 'SMB_prev_month',\n",
       "       'HML_prev_month', 'SMB_prev_year', 'HML_prev_year',\n",
       "       '12m_nom_gdp_forecast', '12m_ip_growth_forecast', '12m_cpi_forecast',\n",
       "       '12m_real_gdp_forecast_calculated', '12m_real_ip_growth_calculated',\n",
       "       '12m_unemployment_rate', 'year_of_deficit_pct_gdp', 'shiller_cape',\n",
       "       'seasoned_corp_bond_yield_prev_month', 'ttm_pe_previous_month',\n",
       "       'sp500_return_prev_month', 'sp500_return_prev_yr',\n",
       "       'TS_Slope_Change_prev', 'TS_Level_Change_prev',\n",
       "       'Business_Confidence_chg_prev', 'IP_chg_prev', 'Spread_chg_prev',\n",
       "       'Div_yield_chg_prev', '12m_nom_gdp_forecast_changerate',\n",
       "       '12m_ip_growth_forecast_changerate', '12m_cpi_forecast_changerate',\n",
       "       '12m_unemployment_rate_changerate', 'SMB_positive', 'HML_positive',\n",
       "       'SMB_over_HML'],\n",
       "      dtype='object')"
      ]
     },
     "execution_count": 3,
     "metadata": {},
     "output_type": "execute_result"
    }
   ],
   "source": [
    "main_df.columns"
   ]
  },
  {
   "cell_type": "markdown",
   "metadata": {},
   "source": [
    "#### Important Parameters\n",
    "\n",
    "The code is laid out such that each model relies on these inputs to calculate predictions. For example, running any of the models with 'predicted_y' = 'SMB_over_HML' will have the model use this as the label it is trying to predict. \n",
    "\n",
    "series1 and series2 are variables that specify to the performance function what performance we are calculating."
   ]
  },
  {
   "cell_type": "code",
   "execution_count": 4,
   "metadata": {},
   "outputs": [],
   "source": [
    "random_state = 302\n",
    "train_size = 400\n",
    "test_size = 12\n",
    "val_size = 50\n",
    "predicted_y = 'SMB_over_HML'\n",
    "\n",
    "if predicted_y == 'SMB_over_HML':\n",
    "    series1 = 'SMB'\n",
    "    series2 = 'HML' \n",
    "elif predicted_y == 'SMB_positive':\n",
    "    series1 = 'SMB'\n",
    "    series2 = False \n",
    "elif predicted_y == 'HML_positive':\n",
    "    series1 = 'HML'\n",
    "    series2 = False"
   ]
  },
  {
   "cell_type": "markdown",
   "metadata": {},
   "source": [
    "#### Write Results to CSV Helper Function\n",
    "\n",
    "To write the predictions of any classifier to CSV, run the code for the classifier on the variable you want and then run write_results_csv immediately after."
   ]
  },
  {
   "cell_type": "code",
   "execution_count": 5,
   "metadata": {},
   "outputs": [],
   "source": [
    "def write_results_csv(csv_name,indicies,choices,main_df):\n",
    "    # Extracts dates corresponding to indicies which were passed\n",
    "    dates = main_df.loc[indicies]['Unnamed: 0']\n",
    "    \n",
    "    # Make indicies start at 0 to allow joining\n",
    "    dates = dates.reset_index() \n",
    "    \n",
    "    choices = pd.DataFrame(choices)\n",
    "    \n",
    "    result_df = pd.concat([dates, choices], axis=1, sort=False)\n",
    "    result_df = result_df.rename(index=str, columns={\"Unnamed: 0\": \"Date\", 0: \"Prediction\"})\n",
    "    result_df = result_df.drop(['index'], axis=1)\n",
    "    \n",
    "    result_df.to_csv(csv_name+'.csv',index=False)\n",
    "    \n",
    "    return result_df"
   ]
  },
  {
   "cell_type": "markdown",
   "metadata": {},
   "source": [
    "#### Performance Assessment Helper Function\n",
    "\n",
    "This performance evaluator outputs a graph roughly describing how the models predictions did over time."
   ]
  },
  {
   "cell_type": "code",
   "execution_count": 6,
   "metadata": {},
   "outputs": [],
   "source": [
    "### creates a performance chart for a classifier\n",
    "\n",
    "def performance_assessment(smb_hml_choice_in_sample,smb_hml_indicies_in_sample, \n",
    "                           main_df,y_name1,y_name2):  \n",
    "    \n",
    "    # Create lists which represent the portfolios value over time if trading\n",
    "    # strategies followed, set first value equal to 100\n",
    "    \n",
    "    # portfolio_value will represent the portfolio of the trading strategy used\n",
    "    # portfolio_value_y1/y2 is portfolio of only asset y1 or y2\n",
    "    # portfolio_value_both is a 50/50 split\n",
    "    \n",
    "    portfolio_value = list([100])\n",
    "    portfolio_value_y1 = list([100])\n",
    "    portfolio_value_y2 = list([100])\n",
    "    portfolio_value_both = list([100])\n",
    "\n",
    "    smb_hml_choice = smb_hml_choice_in_sample\n",
    "    smb_hml_indicies = smb_hml_indicies_in_sample\n",
    "    \n",
    "    # use this if we are just looking at outright performance of a factor\n",
    "    if y_name2 == False:\n",
    "        for i in range(len(smb_hml_indicies)):\n",
    "            if smb_hml_choice_in_sample[i]==1:\n",
    "                portfolio_value = portfolio_value + list([portfolio_value[-1]*(1+main_df.iloc[smb_hml_indicies[i]][y_name1]/100)])\n",
    "            else:\n",
    "                portfolio_value = portfolio_value + list([portfolio_value[-1]*(1-main_df.iloc[smb_hml_indicies[i]][y_name1]/100)])\n",
    "\n",
    "            portfolio_value_y1 = portfolio_value_y1 + list([portfolio_value_y1[-1]*(1+main_df.iloc[smb_hml_indicies[i]][y_name1]/100)])\n",
    "\n",
    "        plt.plot(portfolio_value,label='Model')\n",
    "        plt.plot(portfolio_value_y1,label=y_name1)\n",
    "        plt.yscale('log')\n",
    "        plt.legend()\n",
    "        plt.show()\n",
    "    \n",
    "    # use this if we are comparing SMB to HML performance\n",
    "    else:      \n",
    "        for i in range(len(smb_hml_indicies)):\n",
    "            if smb_hml_choice_in_sample[i]==1:\n",
    "                # if the choice made by the classifier is 1 we invest in y_name1 and update our portfolios\n",
    "                # value by the return of y_name1 in that period\n",
    "                portfolio_value = portfolio_value + list([portfolio_value[-1]*(1+main_df.iloc[smb_hml_indicies[i]][y_name1]/100)])\n",
    "            else:\n",
    "                # if the choice made by the classifier is 0 we invest in y_name2\n",
    "                portfolio_value = portfolio_value + list([portfolio_value[-1]*(1+main_df.iloc[smb_hml_indicies[i]][y_name2]/100)])\n",
    "            \n",
    "            # update single asset, or 50/50 portfolios\n",
    "            portfolio_value_y1 = portfolio_value_y1 + list([portfolio_value_y1[-1]*(1+main_df.iloc[smb_hml_indicies[i]][y_name1]/100)])\n",
    "            portfolio_value_y2 = portfolio_value_y2 + list([portfolio_value_y2[-1]*(1+main_df.iloc[smb_hml_indicies[i]][y_name2]/100)])\n",
    "            portfolio_value_both = portfolio_value_both + list([portfolio_value_both[-1]*\n",
    "                                                                (1+(main_df.iloc[smb_hml_indicies[i]][y_name1]/100+\n",
    "                                                                 main_df.iloc[smb_hml_indicies[i]][y_name2]/100)/2)])\n",
    "        # produce a plot showing returns\n",
    "        plt.plot(portfolio_value,label='Model')\n",
    "        plt.plot(portfolio_value_y1,label=y_name1)\n",
    "        plt.plot(portfolio_value_y2,label=y_name2)\n",
    "        plt.plot(portfolio_value_both,label='Equal Weight')\n",
    "        plt.yscale('log')\n",
    "        plt.legend()\n",
    "        plt.show()\n",
    "\n"
   ]
  },
  {
   "cell_type": "markdown",
   "metadata": {},
   "source": [
    "# Models\n",
    "\n",
    "Below is a section where we train models and use these models to make predictions.\n",
    "\n",
    "The code is laid out as follows.\n",
    "\n",
    "1. Model name and notes.\n",
    "2. Helper function that runs cross validation for a model.\n",
    "3. Import necessary packages and specify hyperparameters to optimize over. Call to model specific cross validation helper function (model specific cross validation helper functions were necessary because of the different hyperparameters we are tuning for each one).\n",
    "4. Performance assessment.\n",
    "\n",
    "Note that some lines are commented out in the performance assessment code block. This was done to ensure our results were not overwritten."
   ]
  },
  {
   "cell_type": "markdown",
   "metadata": {},
   "source": [
    "#### Model 1: Random Forest\n",
    "\n",
    "To help runtime can adjust n_estimators parameter in RForestClassifier"
   ]
  },
  {
   "cell_type": "code",
   "execution_count": 9,
   "metadata": {},
   "outputs": [],
   "source": [
    "def RFCrossValidation(X,y,criteria,max_depth,train_size,test_size,val_size):\n",
    "    indicies = []\n",
    "    choices = []\n",
    "    accurate_prediction = []\n",
    "    parameters = [[],[]]\n",
    "    val_accuracy = [[],[]]\n",
    "    feat_importances = []\n",
    "    \n",
    "    # Loop that iterates through starting training index (necessary for time series CV)\n",
    "    for train_index_start in range(0,len(X)-train_size,test_size):\n",
    "        \n",
    "        train_index_end = train_index_start + train_size\n",
    "        test_index_start = train_index_end + 1\n",
    "        \n",
    "        # Ensure the maximum test index never exceeds size of data\n",
    "        test_index_end = min(test_index_start + test_size,len(X))   \n",
    "        start_val_index = train_index_end - val_size\n",
    "\n",
    "        # optimize model over its various hyperparameters on the validation set\n",
    "\n",
    "        for criterion in criteria:\n",
    "            for depth in max_depth:\n",
    "\n",
    "                # Create classifier with correct validation parameter\n",
    "                ### CAN ADJUST N_ESTIMATORS TO IMPROVE RUNTIME ###\n",
    "                clf = RandomForestClassifier(criterion=criterion,max_depth=depth,n_estimators=25)\n",
    "\n",
    "                predictions = []\n",
    "                \n",
    "                # here we fit the model on the training set, and any elements of the validation \n",
    "                # set that are 'in the past', and then forecast the one step ahead validation example\n",
    "                for val_index in range(val_size,0,-1):\n",
    "                    clf.fit(X[train_index_start:(train_index_end-val_index)], \n",
    "                            y[train_index_start:(train_index_end-val_index)])\n",
    "\n",
    "                    # Computes prediction of a index in the validation set\n",
    "                    val_prediction =  clf.predict(np.reshape(X[(train_index_end-val_index+1)],(1,-1)))\n",
    "\n",
    "                    # Turns value to 1 if correct, 0 if incorrect\n",
    "                    val_prediction = 1 - abs(y[(train_index_end-val_index+1)] - val_prediction)\n",
    "                    predictions.append(val_prediction)\n",
    "\n",
    "                # Append accuracy of model on validation set to val_accuracy\n",
    "                val_accuracy[0].append((sum(predictions)/len(predictions))[0])\n",
    "\n",
    "                # Append parameters used to val_accuracy\n",
    "                val_accuracy[1].append([criterion,depth])\n",
    "        \n",
    "        # pick the criterion/depth combination that were associated with the best validation accuracy\n",
    "        optimal_criterion = val_accuracy[1][val_accuracy[0].index(max(val_accuracy[0]))][0]\n",
    "        optimal_depth = val_accuracy[1][val_accuracy[0].index(max(val_accuracy[0]))][1]\n",
    "        \n",
    "        # predict on test set\n",
    "\n",
    "        # fit and use optimal classifier to make predictions\n",
    "        clf = RandomForestClassifier(criterion=optimal_criterion,max_depth=optimal_depth,n_estimators=100)\n",
    "        clf.fit(X[train_index_start:(train_index_end+1)],y[train_index_start:(train_index_end+1)])\n",
    "        test_prediction = clf.predict(X[test_index_start:test_index_end])\n",
    "        \n",
    "        # Append choice/index/parameter to vectors to eventually be returned\n",
    "        # these represent what the optimal classifier predicted for a given index and the\n",
    "        # associated parameter values\n",
    "        \n",
    "        choices = choices + list(test_prediction)\n",
    "        indicies = indicies + list(np.arange(test_index_start,test_index_end))\n",
    "        accurate_prediction = (accurate_prediction + \n",
    "                               list(1-abs(y[test_index_start:test_index_end]-test_prediction)))\n",
    "        parameters[0].append(optimal_criterion)\n",
    "        parameters[1].append(optimal_depth)\n",
    "        feat_importances.append(clf.feature_importances_)\n",
    "    \n",
    "    return indicies,choices, parameters, accurate_prediction, feat_importances\n",
    "        "
   ]
  },
  {
   "cell_type": "code",
   "execution_count": 10,
   "metadata": {},
   "outputs": [],
   "source": [
    "from sklearn.ensemble import RandomForestClassifier\n",
    "\n",
    "# RF Cross Validation\n",
    "criteria = ['entropy','gini']\n",
    "max_depth = [1,2,3,4,None]\n",
    "\n",
    "indicies, choices, parameters, accurate_prediction, feat_importances = RFCrossValidation(main_df[key_columns].values,\n",
    "                                                  main_df[predicted_y].values,\n",
    "                                                  criteria,\n",
    "                                                  max_depth,\n",
    "                                                  train_size,\n",
    "                                                  test_size,\n",
    "                                                  val_size)"
   ]
  },
  {
   "cell_type": "code",
   "execution_count": 13,
   "metadata": {},
   "outputs": [
    {
     "name": "stdout",
     "output_type": "stream",
     "text": [
      "Average Accuracy 0.505\n"
     ]
    },
    {
     "data": {
      "image/png": "[encoded data removed]",
      "text/plain": [
       "<Figure size 432x288 with 1 Axes>"
      ]
     },
     "metadata": {
      "needs_background": "light"
     },
     "output_type": "display_data"
    }
   ],
   "source": [
    "print('Average Accuracy',sum(accurate_prediction)/len(accurate_prediction))\n",
    "performance_assessment(choices,indicies,main_df,series1,series2)\n",
    "# write_results_csv('SMB_over_HML_RF',indicies,choices,main_df)\n",
    "# feat_import = pd.DataFrame(feat_importances)\n",
    "# feat_import.to_csv('feat_import_hml.csv')"
   ]
  },
  {
   "cell_type": "markdown",
   "metadata": {},
   "source": [
    "#### Model 2: SVM\n",
    "\n",
    "Note that a poly kernel was not used because the runtime was prohibitively long for this dataset."
   ]
  },
  {
   "cell_type": "code",
   "execution_count": 14,
   "metadata": {},
   "outputs": [],
   "source": [
    "def SVMCrossValidation(X,y,kernels,costs,gammas,train_size,test_size,val_size):\n",
    "    indicies = []\n",
    "    choices = []\n",
    "    accurate_prediction = []\n",
    "    parameters = [[],[],[]]\n",
    "    val_accuracy = [[],[]]\n",
    "    \n",
    "    # Loop that iterates through starting training index (necessary for time series CV)\n",
    "    for train_index_start in range(0,len(X)-train_size,test_size):\n",
    "        \n",
    "        train_index_end = train_index_start + train_size\n",
    "        test_index_start = train_index_end + 1\n",
    "        test_index_end = min(test_index_start + test_size,len(X))   # Ensure the maximum test index never exceeds size of data\n",
    "        start_val_index = train_index_end - val_size\n",
    "\n",
    "        # optimize model on validation set over gamma/kernel/cost        \n",
    "        for gamma in gammas:\n",
    "            for kernel in kernels:\n",
    "                for cost in costs:\n",
    "\n",
    "                    # Create classifier with correct validation parameter\n",
    "                    clf = SVC(C=cost,kernel=kernel,gamma=gamma)\n",
    "\n",
    "                    predictions = []\n",
    "                    \n",
    "                    # predict on validation set\n",
    "                    for val_index in range(val_size,0,-1):\n",
    "                        clf.fit(X[train_index_start:(train_index_end-val_index)], \n",
    "                                y[train_index_start:(train_index_end-val_index)])\n",
    "\n",
    "                        # Computes prediction of a index in the validation set\n",
    "                        val_prediction =  clf.predict(np.reshape(X[(train_index_end-val_index+1)],(1,-1)))\n",
    "\n",
    "                        # Turns value to 1 if correct, 0 if incorrect\n",
    "                        val_prediction = 1 - abs(y[(train_index_end-val_index+1)] - val_prediction)\n",
    "                        predictions.append(val_prediction)\n",
    "\n",
    "                    # Append accuracy of model on validation set to val_accuracy\n",
    "                    val_accuracy[0].append((sum(predictions)/len(predictions))[0])\n",
    "\n",
    "                    # Append parameters used to val_accuracy\n",
    "                    val_accuracy[1].append([kernel,cost,gamma])\n",
    "        \n",
    "        # extract optimal combined kernel/cost/gamma associated with highest accuracy\n",
    "        optimal_kernel = val_accuracy[1][val_accuracy[0].index(max(val_accuracy[0]))][0]\n",
    "        optimal_cost = val_accuracy[1][val_accuracy[0].index(max(val_accuracy[0]))][1]\n",
    "        optimal_gamma = val_accuracy[1][val_accuracy[0].index(max(val_accuracy[0]))][2]\n",
    "        \n",
    "        # predict on test set\n",
    "\n",
    "        # pick optimal classifier\n",
    "        clf = SVC(C=optimal_cost,kernel=optimal_kernel,gamma=optimal_gamma)\n",
    "        clf.fit(X[train_index_start:(train_index_end+1)],y[train_index_start:(train_index_end+1)])\n",
    "        test_prediction = clf.predict(X[test_index_start:test_index_end])\n",
    "        \n",
    "        # Append choice/index/parameter to vectors to eventuallybe returned\n",
    "        choices = choices + list(test_prediction)\n",
    "        indicies = indicies + list(np.arange(test_index_start,test_index_end))\n",
    "        accurate_prediction = (accurate_prediction + \n",
    "                               list(1-abs(y[test_index_start:test_index_end]-test_prediction)))\n",
    "        parameters[0].append(optimal_kernel)\n",
    "        parameters[1].append(optimal_cost)\n",
    "        parameters[2].append(optimal_gamma)\n",
    "    \n",
    "    return indicies,choices, parameters, accurate_prediction"
   ]
  },
  {
   "cell_type": "code",
   "execution_count": 15,
   "metadata": {},
   "outputs": [],
   "source": [
    "from sklearn.svm import SVC\n",
    "\n",
    "# SVM Cross Validation\n",
    "kernels = ['rbf','linear']\n",
    "costs = [0.01,0.1,1,10]\n",
    "gammas = ['auto','scale']\n",
    "\n",
    "indicies, choices, parameters, accurate_prediction = SVMCrossValidation(main_df[key_columns].values,\n",
    "                                                  main_df[predicted_y].values,\n",
    "                                                  kernels,\n",
    "                                                  costs,\n",
    "                                                  gammas,  \n",
    "                                                  train_size,\n",
    "                                                  test_size,\n",
    "                                                  val_size)"
   ]
  },
  {
   "cell_type": "code",
   "execution_count": 16,
   "metadata": {
    "scrolled": true
   },
   "outputs": [
    {
     "name": "stdout",
     "output_type": "stream",
     "text": [
      "Average Accuracy 0.5\n"
     ]
    },
    {
     "data": {
      "image/png": "[encoded data removed]",
      "text/plain": [
       "<Figure size 432x288 with 1 Axes>"
      ]
     },
     "metadata": {
      "needs_background": "light"
     },
     "output_type": "display_data"
    }
   ],
   "source": [
    "print('Average Accuracy',sum(accurate_prediction)/len(accurate_prediction))\n",
    "performance_assessment(choices,indicies,main_df,series1,series2)\n",
    "# write_results_csv('SMB_over_HML_SVM',indicies,choices,main_df)"
   ]
  },
  {
   "cell_type": "markdown",
   "metadata": {},
   "source": [
    "#### Model 4: MLP\n",
    "\n",
    "Based on compute power one can change max_iter to something bigger."
   ]
  },
  {
   "cell_type": "code",
   "execution_count": 7,
   "metadata": {},
   "outputs": [],
   "source": [
    "def MLPCrossValidation(X,y,activations,architectures,train_size,test_size,val_size,random_state):\n",
    "    indicies = []\n",
    "    choices = []\n",
    "    accurate_prediction = []\n",
    "    parameters = [[],[]]\n",
    "    val_accuracy = [[],[]]\n",
    "    \n",
    "    # Loop that iterates through starting training index (necessary for time series CV)\n",
    "    for train_index_start in range(0,len(X)-train_size,test_size):\n",
    "        \n",
    "        train_index_end = train_index_start + train_size\n",
    "        test_index_start = train_index_end + 1\n",
    "        test_index_end = min(test_index_start + test_size,len(X))   # Ensure the maximum test index never exceeds size of data\n",
    "        start_val_index = train_index_end - val_size\n",
    "\n",
    "        # optimize model on validation set\n",
    "\n",
    "        for activation in activations:\n",
    "            for arc in architectures:\n",
    "\n",
    "                # Create classifier with correct validation parameter\n",
    "                ### TO IMPROVE RUNTIME CAN ADJUST MAX_ITER\n",
    "                clf = MLPClassifier(solver='sgd', hidden_layer_sizes=arc, activation=activation,\n",
    "                                    random_state=random_state,max_iter=50)\n",
    "                \n",
    "                predictions = []\n",
    "\n",
    "                for val_index in range(val_size,0,-1):\n",
    "                    clf.fit(X[train_index_start:(train_index_end-val_index)], \n",
    "                            y[train_index_start:(train_index_end-val_index)])\n",
    "\n",
    "                    # Computes prediction of a index in the validation set\n",
    "                    val_prediction =  clf.predict(np.reshape(X[(train_index_end-val_index+1)],(1,-1)))\n",
    "\n",
    "                    # Turns value to 1 if correct, 0 if incorrect\n",
    "                    val_prediction = 1 - abs(y[(train_index_end-val_index+1)] - val_prediction)\n",
    "                    predictions.append(val_prediction)\n",
    "\n",
    "                # Append accuracy of model on validation set to val_accuracy\n",
    "                val_accuracy[0].append((sum(predictions)/len(predictions))[0])\n",
    "\n",
    "                # Append parameters used to val_accuracy\n",
    "                val_accuracy[1].append([activation,arc])\n",
    "        \n",
    "        # extract optimal activations and architecture for this validation set\n",
    "        optimal_activation = val_accuracy[1][val_accuracy[0].index(max(val_accuracy[0]))][0]\n",
    "        optimal_arc = val_accuracy[1][val_accuracy[0].index(max(val_accuracy[0]))][1]\n",
    "        \n",
    "        # predict on test set\n",
    "\n",
    "        # pick optimal classifier\n",
    "        clf = MLPClassifier(solver='sgd', hidden_layer_sizes=optimal_arc, activation=optimal_activation,\n",
    "                            random_state=random_state)\n",
    "        clf.fit(X[train_index_start:(train_index_end+1)],y[train_index_start:(train_index_end+1)])\n",
    "        test_prediction = clf.predict(X[test_index_start:test_index_end])\n",
    "        \n",
    "        # Append choice/index/parameter to vectors to eventuallybe returned\n",
    "        choices = choices + list(test_prediction)\n",
    "        indicies = indicies + list(np.arange(test_index_start,test_index_end))\n",
    "        accurate_prediction = (accurate_prediction + \n",
    "                               list(1-abs(y[test_index_start:test_index_end]-test_prediction)))\n",
    "        parameters[0].append(optimal_activation)\n",
    "        parameters[1].append(optimal_arc)\n",
    "    \n",
    "    return indicies,choices, parameters, accurate_prediction  "
   ]
  },
  {
   "cell_type": "code",
   "execution_count": 8,
   "metadata": {},
   "outputs": [],
   "source": [
    "from sklearn.neural_network import MLPClassifier\n",
    "\n",
    "# MLP Cross Validation\n",
    "activations = ['tanh','relu']\n",
    "\n",
    "# architectures tested similar to what is laid out in Krauss 2016\n",
    "architectures = [(28),\n",
    "                (28,28),(28,16),(28,8),(28,4),\n",
    "                 (28,28,28),(28,16,8),(28,8,4)]\n",
    "\n",
    "indicies, choices, parameters, accurate_prediction = MLPCrossValidation(main_df[key_columns].values,\n",
    "                                                  main_df[predicted_y].values,\n",
    "                                                  activations,\n",
    "                                                  architectures,\n",
    "                                                  train_size,\n",
    "                                                  test_size,\n",
    "                                                  val_size,random_state)"
   ]
  },
  {
   "cell_type": "code",
   "execution_count": 10,
   "metadata": {
    "scrolled": false
   },
   "outputs": [
    {
     "name": "stdout",
     "output_type": "stream",
     "text": [
      "Average Accuracy 0.5075\n"
     ]
    },
    {
     "data": {
      "image/png": "[encoded data removed]",
      "text/plain": [
       "<Figure size 432x288 with 1 Axes>"
      ]
     },
     "metadata": {
      "needs_background": "light"
     },
     "output_type": "display_data"
    }
   ],
   "source": [
    "print('Average Accuracy',sum(accurate_prediction)/len(accurate_prediction))\n",
    "performance_assessment(choices,indicies,main_df,series1,series2)\n",
    "# write_results_csv('SMB_over_HML_MLP',indicies,choices,main_df)"
   ]
  },
  {
   "cell_type": "markdown",
   "metadata": {},
   "source": [
    "# Other Code\n",
    "\n",
    "This section includes one subsection used to produce a chart of the SMB & HML return over time, and the other subsections are related to versions of models that were not ultimately used in the report (KNN, and Logistic Regression)."
   ]
  },
  {
   "cell_type": "markdown",
   "metadata": {},
   "source": [
    "#### SMB/HML Over Time"
   ]
  },
  {
   "cell_type": "code",
   "execution_count": 8,
   "metadata": {},
   "outputs": [
    {
     "data": {
      "image/png": "[encoded data removed]",
      "text/plain": [
       "<Figure size 432x288 with 1 Axes>"
      ]
     },
     "metadata": {
      "needs_background": "light"
     },
     "output_type": "display_data"
    }
   ],
   "source": [
    "from datetime import datetime\n",
    "\n",
    "SMB = [100]\n",
    "HML = [100]\n",
    "\n",
    "SMB_val = 100\n",
    "HML_val = 100\n",
    "\n",
    "for i in main_df.index:\n",
    "    SMB_val = SMB_val*(1+main_df.iloc[i]['SMB'])\n",
    "    SMB.append(SMB_val)\n",
    "    \n",
    "    HML_val = HML_val*(1+main_df.iloc[i]['HML'])\n",
    "    HML.append(HML_val)\n",
    "\n",
    "# dates = main_df['Unnamed: 0'].values\n",
    "# new_dates = [datetime.datetime(*x) for x in dates]   \n",
    "\n",
    "datess = []\n",
    "datess.append(datetime.strptime('195112','%Y%m')) # Need to add month before first entry in series\n",
    "\n",
    "for i in main_df['Unnamed: 0'].values:\n",
    "    datess.append(datetime.strptime(str(i), '%Y%m'))\n",
    "    \n",
    "\n",
    "# plt.plot(SMB,label='SMB')\n",
    "# plt.plot(HML,label='HML')\n",
    "# plt.yscale('log')\n",
    "# plt.legend()\n",
    "# plt.show()\n",
    "\n",
    "hist_dat = pd.DataFrame(SMB)\n",
    "hist_dat['HML'] = pd.DataFrame(HML)\n",
    "hist_dat= hist_dat.rename(columns={0:'SMB'})\n",
    "hist_dat['dates'] = pd.DataFrame(datess)\n",
    "\n",
    "plt.plot(hist_dat['dates'],hist_dat['SMB'],label='SMB')\n",
    "plt.plot(hist_dat['dates'],hist_dat['HML'],label='HML')\n",
    "plt.yticks(np.arange(0, 1500, step=100))\n",
    "plt.legend()\n",
    "plt.savefig('hist_return.png',dpi=1000)\n",
    "plt.show()"
   ]
  },
  {
   "cell_type": "markdown",
   "metadata": {},
   "source": [
    "#### Nearest Neighbours\n",
    "\n",
    "Note that this model can performa much better if only using 3 variables (previous month performance of both and S&P)."
   ]
  },
  {
   "cell_type": "code",
   "execution_count": null,
   "metadata": {},
   "outputs": [],
   "source": [
    "from sklearn.neighbors import KNeighborsClassifier\n",
    "from sklearn.preprocessing import StandardScaler\n",
    "\n",
    "# KNN Cross Validation\n",
    "n_neighbour_values = [1,2,4,8,16,32]\n",
    "weight_functions = ['uniform','distance']\n",
    "\n",
    "indicies, choices, parameters, accurate_prediction = KNNCrossValidation(main_df[key_columns].values,\n",
    "                                                  main_df[predicted_y].values,\n",
    "                                                  n_neighbour_values,\n",
    "                                                  weight_functions,\n",
    "                                                  train_size,\n",
    "                                                  test_size,\n",
    "                                                  val_size)"
   ]
  },
  {
   "cell_type": "code",
   "execution_count": null,
   "metadata": {},
   "outputs": [],
   "source": [
    "def KNNCrossValidation(X,y,n_neighbour_values,weight_functions,train_size,test_size,val_size):\n",
    "    indicies = []\n",
    "    choices = []\n",
    "    accurate_prediction = []\n",
    "    parameters = [[],[]]\n",
    "    val_accuracy = [[],[]]\n",
    "    \n",
    "    # Scale Data\n",
    "    scaler = StandardScaler()\n",
    "    scaler = scaler.fit(X)\n",
    "    X = scaler.transform(X)\n",
    "    \n",
    "    for train_index_start in range(0,len(X)-train_size,test_size):\n",
    "        \n",
    "        train_index_end = train_index_start + train_size\n",
    "        test_index_start = train_index_end + 1\n",
    "        test_index_end = min(test_index_start + test_size,len(X))   # Ensure the maximum test index never exceeds size of data\n",
    "        start_val_index = train_index_end - val_size\n",
    "\n",
    "        # optimize model on validation set\n",
    "\n",
    "        for weight_function in weight_functions:\n",
    "            for n_neighbour_value in n_neighbour_values:\n",
    "\n",
    "                # Create classifier with correct validation parameter\n",
    "                clf = KNeighborsClassifier(n_neighbour_value,weights=weight_function)\n",
    "\n",
    "                predictions = []\n",
    "\n",
    "                for val_index in range(val_size,0,-1):\n",
    "                    clf.fit(X[train_index_start:(train_index_end-val_index)], \n",
    "                            y[train_index_start:(train_index_end-val_index)])\n",
    "\n",
    "                    # Computes prediction of a index in the validation set\n",
    "                    val_prediction =  clf.predict(np.reshape(X[(train_index_end-val_index+1)],(1,-1)))\n",
    "\n",
    "                    # Turns value to 1 if correct, 0 if incorrect\n",
    "                    val_prediction = 1 - abs(y[(train_index_end-val_index+1)] - val_prediction)\n",
    "                    predictions.append(val_prediction)\n",
    "\n",
    "                # Append accuracy of model on validation set to val_accuracy\n",
    "                val_accuracy[0].append((sum(predictions)/len(predictions))[0])\n",
    "\n",
    "                # Append parameters used to val_accuracy\n",
    "                val_accuracy[1].append([n_neighbour_value,weight_function])\n",
    "\n",
    "        optimal_n_neighbour = val_accuracy[1][val_accuracy[0].index(max(val_accuracy[0]))][0]\n",
    "        optimal_weight_function = val_accuracy[1][val_accuracy[0].index(max(val_accuracy[0]))][1]\n",
    "\n",
    "        # predict on test set\n",
    "\n",
    "        # pick optimal classifier\n",
    "        clf = KNeighborsClassifier(optimal_n_neighbour,weights=optimal_weight_function)\n",
    "        clf.fit(X[train_index_start:(train_index_end+1)],y[train_index_start:(train_index_end+1)])\n",
    "        test_prediction = clf.predict(X[test_index_start:test_index_end])\n",
    "        \n",
    "        # Append choice/index/parameter to vectors to eventuallybe returned\n",
    "        choices = choices + list(test_prediction)\n",
    "        indicies = indicies + list(np.arange(test_index_start,test_index_end))\n",
    "        accurate_prediction = (accurate_prediction + \n",
    "                               list(1-abs(y[test_index_start:test_index_end]-test_prediction)))\n",
    "        parameters[0].append(optimal_n_neighbour)\n",
    "        parameters[1].append(optimal_weight_function)\n",
    "    \n",
    "    return indicies,choices, parameters, accurate_prediction"
   ]
  },
  {
   "cell_type": "code",
   "execution_count": null,
   "metadata": {},
   "outputs": [],
   "source": [
    "print('Average Accuracy',sum(accurate_prediction)/len(accurate_prediction))\n",
    "performance_assessment(choices,indicies,main_df,series1,series2)\n",
    "# write_results_csv('HML_bin_KNN',indicies,choices,main_df)"
   ]
  },
  {
   "cell_type": "markdown",
   "metadata": {},
   "source": [
    "#### Logistic Regression\n",
    "\n",
    "This is a model that was not ultimately used (another iteration of logistic regression was)."
   ]
  },
  {
   "cell_type": "code",
   "execution_count": null,
   "metadata": {},
   "outputs": [],
   "source": [
    "from sklearn.linear_model import LogisticRegression\n",
    "\n",
    "# Logistic Regression Cross Validation\n",
    "# Generate L2 penalties between .0001 and 10\n",
    "l2_penalties = list(np.logspace(-4, 4, num=20, endpoint=True, base=10.0)) \n",
    "\n",
    "indicies, choices, parameters, accurate_prediction = LogisticRegressionCrossValidation(main_df[key_columns].values,\n",
    "                                                  main_df[predicted_y].values,\n",
    "                                                  l2_penalties,\n",
    "                                                  train_size,\n",
    "                                                  test_size,\n",
    "                                                  val_size)"
   ]
  },
  {
   "cell_type": "code",
   "execution_count": null,
   "metadata": {},
   "outputs": [],
   "source": [
    "def LogisticRegressionCrossValidation(X,y,l2_penalties,train_size,test_size,val_size):\n",
    "    indicies = []\n",
    "    choices = []\n",
    "    accurate_prediction = []\n",
    "    parameters = [[]]\n",
    "    val_accuracy = [[],[]]\n",
    "    \n",
    "    for train_index_start in range(0,len(X)-train_size,test_size):\n",
    "        \n",
    "        train_index_end = train_index_start + train_size\n",
    "        test_index_start = train_index_end + 1\n",
    "        test_index_end = min(test_index_start + test_size,len(X))   # Ensure the maximum test index never exceeds size of data\n",
    "        start_val_index = train_index_end - val_size\n",
    "\n",
    "        # optimize model on validation set\n",
    "\n",
    "\n",
    "        for l2_penalty in l2_penalties:\n",
    "\n",
    "            # Create classifier with correct validation parameter\n",
    "            clf = LogisticRegression(random_state=0, solver='lbfgs',C=l2_penalty)\n",
    "\n",
    "            predictions = []\n",
    "\n",
    "            for val_index in range(val_size,0,-1):\n",
    "                clf.fit(X[train_index_start:(train_index_end-val_index)], \n",
    "                        y[train_index_start:(train_index_end-val_index)])\n",
    "\n",
    "                # Computes prediction of a index in the validation set\n",
    "                val_prediction =  clf.predict(np.reshape(X[(train_index_end-val_index+1)],(1,-1)))\n",
    "\n",
    "                # Turns value to 1 if correct, 0 if incorrect\n",
    "                val_prediction = 1 - abs(y[(train_index_end-val_index+1)] - val_prediction)\n",
    "                predictions.append(val_prediction)\n",
    "\n",
    "            # Append accuracy of model on validation set to val_accuracy\n",
    "            val_accuracy[0].append((sum(predictions)/len(predictions))[0])\n",
    "\n",
    "            # Append parameters used to val_accuracy\n",
    "            val_accuracy[1].append([l2_penalty])\n",
    "\n",
    "        optimal_l2_penalty = val_accuracy[1][val_accuracy[0].index(max(val_accuracy[0]))][0]\n",
    "\n",
    "        # predict on test set\n",
    "\n",
    "        # pick optimal classifier\n",
    "        clf = LogisticRegression(random_state=0, solver='lbfgs',C=optimal_l2_penalty)\n",
    "        clf.fit(X[train_index_start:(train_index_end+1)],y[train_index_start:(train_index_end+1)])\n",
    "        test_prediction = clf.predict(X[test_index_start:test_index_end])\n",
    "        \n",
    "        # Append choice/index/parameter to vectors to eventuallybe returned\n",
    "        choices = choices + list(test_prediction)\n",
    "        indicies = indicies + list(np.arange(test_index_start,test_index_end))\n",
    "        accurate_prediction = (accurate_prediction + \n",
    "                               list(1-abs(y[test_index_start:test_index_end]-test_prediction)))\n",
    "        parameters[0].append(optimal_l2_penalty)\n",
    "    \n",
    "    return indicies,choices, parameters, accurate_prediction"
   ]
  },
  {
   "cell_type": "code",
   "execution_count": null,
   "metadata": {},
   "outputs": [],
   "source": [
    "print('Average Accuracy',sum(accurate_prediction)/len(accurate_prediction))\n",
    "performance_assessment(choices,indicies,main_df,series1,series2)"
   ]
  }
 ],
 "metadata": {
  "kernelspec": {
   "display_name": "Python 3",
   "language": "python",
   "name": "python3"
  },
  "language_info": {
   "codemirror_mode": {
    "name": "ipython",
    "version": 3
   },
   "file_extension": ".py",
   "mimetype": "text/x-python",
   "name": "python",
   "nbconvert_exporter": "python",
   "pygments_lexer": "ipython3",
   "version": "3.6.6"
  }
 },
 "nbformat": 4,
 "nbformat_minor": 2
}
